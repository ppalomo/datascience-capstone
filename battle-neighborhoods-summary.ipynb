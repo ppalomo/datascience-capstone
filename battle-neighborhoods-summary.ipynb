{
 "cells": [
  {
   "cell_type": "markdown",
   "metadata": {},
   "source": [
    "# The Battle of Neighborhoods"
   ]
  },
  {
   "cell_type": "markdown",
   "metadata": {},
   "source": [
    "## Introduction"
   ]
  },
  {
   "cell_type": "markdown",
   "metadata": {},
   "source": [
    "Tarragona is a port city located in northeast Spain on the Costa Daurada by the Mediterranean Sea. Geographically, it is bordered on the north by the Province of Barcelona and the Province of Lleida.\n",
    "Tarragona contains a number of small bars, restaurants, and cafes serving tapas and sandwiches."
   ]
  },
  {
   "cell_type": "markdown",
   "metadata": {},
   "source": [
    "## Business problem"
   ]
  },
  {
   "cell_type": "markdown",
   "metadata": {},
   "source": [
    "Today I have a restaurant in the Nou Eixample Sud neighborhood of Tarragona. I am very happy because the business is going very well for me.\n",
    "The problem is that the landlord has raised my rent a lot and I have to relocate my business.\n",
    "There are many interesting neighborhoods in the province of Tarragona and I have to choose which one is better.\n",
    "\n",
    "I will choose the neighborhood that has these characteristics:\n",
    "* The neighborhood should be as similar as possible to my current neighborhood in terms of services.\n",
    "* The number of inhabitants per restaurant must be taken into account. The more the better."
   ]
  },
  {
   "attachments": {},
   "cell_type": "markdown",
   "metadata": {},
   "source": [
    "![alt text](map01.jpg \"Tarragona Province\")"
   ]
  },
  {
   "cell_type": "markdown",
   "metadata": {},
   "source": [
    "## Data section"
   ]
  },
  {
   "cell_type": "markdown",
   "metadata": {},
   "source": [
    "I could find a csv file that contains the basic data of the best neighborhoods in the province. Population, coordinates, zip code, etc.\n",
    "\n",
    "With this data, the following process must be carried out:\n",
    "* Calculate for each neighborhood the number of restaurants there are.\n",
    "* Group neighborhoods by similarity through clustering.\n",
    "* From neighborhoods that are similar to my current neighborhood we must choose the one that maximizes the number of inhabitants per restaurant."
   ]
  },
  {
   "cell_type": "markdown",
   "metadata": {},
   "source": [
    "![alt text](data01.jpg \"CSV data\")"
   ]
  }
 ],
 "metadata": {
  "kernelspec": {
   "display_name": "Python 3",
   "language": "python",
   "name": "python3"
  },
  "language_info": {
   "codemirror_mode": {
    "name": "ipython",
    "version": 3
   },
   "file_extension": ".py",
   "mimetype": "text/x-python",
   "name": "python",
   "nbconvert_exporter": "python",
   "pygments_lexer": "ipython3",
   "version": "3.7.4"
  }
 },
 "nbformat": 4,
 "nbformat_minor": 2
}
