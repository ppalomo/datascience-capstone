{
 "cells": [
  {
   "cell_type": "markdown",
   "metadata": {},
   "source": [
    "# The Battle of Neighborhoods"
   ]
  },
  {
   "cell_type": "markdown",
   "metadata": {},
   "source": [
    "## Introduction"
   ]
  },
  {
   "cell_type": "markdown",
   "metadata": {},
   "source": [
    "Tarragona is a port city located in northeast Spain on the Costa Daurada by the Mediterranean Sea. Geographically, it is bordered on the north by the Province of Barcelona and the Province of Lleida.\n",
    "Tarragona contains a number of small bars, restaurants, and cafes serving tapas and sandwiches."
   ]
  },
  {
   "cell_type": "markdown",
   "metadata": {},
   "source": [
    "### Business problem"
   ]
  },
  {
   "cell_type": "markdown",
   "metadata": {},
   "source": [
    "Today I have a restaurant in the Nou Eixample Sud neighborhood of Tarragona. I am very happy because the business is going very well for me.\n",
    "The problem is that the landlord has raised my rent a lot and I have to relocate my business.\n",
    "There are many interesting neighborhoods in the province of Tarragona and I have to choose which one is better.\n",
    "\n",
    "I will choose the neighborhood that has these characteristics:\n",
    "* The neighborhood should be as similar as possible to my current neighborhood in terms of services.\n",
    "* The number of inhabitants per restaurant must be taken into account. The more the better."
   ]
  },
  {
   "attachments": {},
   "cell_type": "markdown",
   "metadata": {},
   "source": [
    "![alt text](map01.jpg \"Tarragona Province\")"
   ]
  },
  {
   "cell_type": "markdown",
   "metadata": {},
   "source": [
    "## Data acquisition and cleaning"
   ]
  },
  {
   "cell_type": "markdown",
   "metadata": {},
   "source": [
    "I could find a CSV file that contains the basic data of the best neighborhoods in the province. Population, coordinates, zip code, etc.\n",
    "\n",
    "With this data, the following process must be carried out:\n",
    "* Calculate for each neighborhood the number of restaurants there are.\n",
    "* Group neighborhoods by similarity through clustering.\n",
    "* From neighborhoods that are similar to my current neighborhood we must choose the one that maximizes the number of inhabitants per restaurant."
   ]
  },
  {
   "cell_type": "markdown",
   "metadata": {},
   "source": [
    "![alt text](data01.jpg \"CSV data\")"
   ]
  },
  {
   "cell_type": "markdown",
   "metadata": {},
   "source": [
    "## Methodology "
   ]
  },
  {
   "cell_type": "markdown",
   "metadata": {},
   "source": [
    "To solve the problem I've used the following methodology:\n",
    "\n",
    "* Pandas library to load the CSV file.\n",
    "* Foursquare API to calculate the number of restaurants for each neighborhood. Data needed to calculate the ratio population/restaurant and also to create the clustering. \n",
    "* K-means clustering method to group neighborhoods by similarity.\n",
    "* From neighborhoods that are similar to my current neighborhood we must choose the one that maximizes the number of inhabitants per restaurant. This process was made again with Pandas library."
   ]
  },
  {
   "cell_type": "markdown",
   "metadata": {},
   "source": [
    "## Results"
   ]
  },
  {
   "cell_type": "markdown",
   "metadata": {},
   "source": [
    "This is the clustering distribution.\n",
    "\n",
    "As we can see, the dominant cluster is number 1 (violet color). Within that cluster we must find the best neighborhood."
   ]
  },
  {
   "cell_type": "markdown",
   "metadata": {},
   "source": [
    "![alt text](map02.jpg \"Clustering\")"
   ]
  },
  {
   "cell_type": "markdown",
   "metadata": {},
   "source": [
    "This are the 5 neighborhoods belonging to cluster 1 with maximum ratio population per restaurant (Target):"
   ]
  },
  {
   "cell_type": "markdown",
   "metadata": {},
   "source": [
    "![alt text](results01.jpg \"Results\")"
   ]
  },
  {
   "cell_type": "markdown",
   "metadata": {},
   "source": [
    "So, now we can decide that the best neighborhood to move forward is El Vendrell."
   ]
  },
  {
   "cell_type": "markdown",
   "metadata": {},
   "source": [
    "## Discussion"
   ]
  },
  {
   "cell_type": "markdown",
   "metadata": {},
   "source": [
    "I have only considered the biggest towns of the province. I have not taken into account smaller or more distant villages. It could be that I was losing a better neighborhood, but it is a personal decision."
   ]
  },
  {
   "cell_type": "markdown",
   "metadata": {},
   "source": [
    "## Conclusion"
   ]
  },
  {
   "cell_type": "markdown",
   "metadata": {},
   "source": [
    "In this study, I analyzed the best neighborhood to move my business. I think el Vendrell will be the best choice because is a similar neighborhood to the actual one and maximizes the ratio population/restaurant, so the target market will be greater.\n",
    "It was a very interesting and useful work."
   ]
  },
  {
   "cell_type": "code",
   "execution_count": null,
   "metadata": {},
   "outputs": [],
   "source": []
  }
 ],
 "metadata": {
  "kernelspec": {
   "display_name": "Python 3",
   "language": "python",
   "name": "python3"
  },
  "language_info": {
   "codemirror_mode": {
    "name": "ipython",
    "version": 3
   },
   "file_extension": ".py",
   "mimetype": "text/x-python",
   "name": "python",
   "nbconvert_exporter": "python",
   "pygments_lexer": "ipython3",
   "version": "3.7.4"
  }
 },
 "nbformat": 4,
 "nbformat_minor": 2
}
